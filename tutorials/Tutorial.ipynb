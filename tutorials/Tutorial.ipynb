{
 "cells": [
  {
   "cell_type": "code",
   "execution_count": 1,
   "metadata": {},
   "outputs": [],
   "source": [
    "import torch\n",
    "import numpy as np\n",
    "import random\n",
    "import os\n",
    "from functools import partial"
   ]
  },
  {
   "cell_type": "markdown",
   "metadata": {},
   "source": [
    "We are importing `dagger` as `dg` to clearly label all parts of the code that belong to the library and differentiate them from other user-defined functionalities."
   ]
  },
  {
   "cell_type": "code",
   "execution_count": 2,
   "metadata": {},
   "outputs": [],
   "source": [
    "import dagger as dg\n",
    "from types import MethodType\n",
    "from torchvision import datasets, transforms\n",
    "from torch import nn\n",
    "import torch.nn.functional as F"
   ]
  },
  {
   "cell_type": "markdown",
   "metadata": {},
   "source": [
    "Define a seed-setting function to be used later for reproducibility purposes"
   ]
  },
  {
   "cell_type": "code",
   "execution_count": 3,
   "metadata": {},
   "outputs": [],
   "source": [
    "def set_reproducible_seed(seed):\n",
    "\n",
    "    torch.manual_seed(seed)\n",
    "    if torch.cuda.is_available():\n",
    "        torch.cuda.manual_seed(seed)\n",
    "        torch.cuda.manual_seed_all(seed)\n",
    "        torch.backends.cudnn.deterministic = True\n",
    "        torch.backends.cudnn.benchmark = False\n",
    "        \n",
    "    np.random.seed(seed)\n",
    "    random.seed(seed)\n",
    "    os.environ['PYTHONHASHSEED'] = str(seed)"
   ]
  },
  {
   "cell_type": "code",
   "execution_count": 4,
   "metadata": {},
   "outputs": [],
   "source": [
    "import logging\n",
    "logging.basicConfig(level=logging.DEBUG)"
   ]
  },
  {
   "cell_type": "markdown",
   "metadata": {},
   "source": [
    "Since `dagger` only provides the experiment orchestration skeleton, the definition of an experiment, of the actions that allow to transition from a state to another, and all custom functionalities that directly depend on the nature of the experiment that one wants to run remain up to the user to define, without `dagger` imposing a particular way to express those steps in a machine learning pipeline. This enables code reuse and maximum flexibility for the user."
   ]
  },
  {
   "cell_type": "markdown",
   "metadata": {},
   "source": [
    "In most applications, initializing an experiment might mean initializing a model, an optimizer, and a dataloader, for example."
   ]
  },
  {
   "cell_type": "code",
   "execution_count": 5,
   "metadata": {},
   "outputs": [],
   "source": [
    "# Any canonical utility function to fetch data, initialize models and optimizers\n",
    "# can be incorporated into the state initialization. For example, here's a function that could be\n",
    "# found in common ML experiment code to get MNIST dataloaders.\n",
    "\n",
    "def get_dataloaders(dataset, root, train_batch_size, test_batch_size, seed, num_workers=0):\n",
    "    # this example only supports MNIST but can be easily extended to other datasets\n",
    "    if dataset.lower() == \"mnist\":\n",
    "        transf = transforms.Compose(\n",
    "            [\n",
    "                transforms.ToTensor(),\n",
    "                transforms.Normalize((0.1307,), (0.3081,)),\n",
    "            ]\n",
    "        )\n",
    "\n",
    "        train_dataset = datasets.MNIST(\n",
    "            root=root,\n",
    "            train=True,\n",
    "            download=True,\n",
    "            transform=transf,\n",
    "        )\n",
    "        test_dataset = datasets.MNIST(\n",
    "            root=root,\n",
    "            train=False,\n",
    "            download=True,\n",
    "            transform=transf,\n",
    "        )\n",
    "\n",
    "        def _worker_init_fn(worker_id, seed):\n",
    "            # for reproducibility\n",
    "            np.random.seed(int(seed))\n",
    "\n",
    "        train_loader = torch.utils.data.DataLoader(\n",
    "            train_dataset,\n",
    "            batch_size=train_batch_size,\n",
    "            shuffle=True,\n",
    "            num_workers=num_workers,\n",
    "            worker_init_fn=partial(_worker_init_fn, seed=seed),\n",
    "        )\n",
    "        test_loader = torch.utils.data.DataLoader(\n",
    "            test_dataset,\n",
    "            batch_size=test_batch_size,\n",
    "            shuffle=False,\n",
    "            num_workers=num_workers,\n",
    "            worker_init_fn=partial(_worker_init_fn, seed=seed),\n",
    "        )\n",
    "        return train_loader, test_loader\n",
    "    else:\n",
    "        raise ValueError('Only value currently supported for `dataset` is \"mnist\"')\n",
    "            \n",
    "\n",
    "\n",
    "class LeNet(nn.Module):\n",
    "\n",
    "    def __init__(self):\n",
    "        super(LeNet, self).__init__()\n",
    "        self.conv1 = nn.Conv2d(1, 6, 3)\n",
    "        self.conv2 = nn.Conv2d(6, 16, 3)\n",
    "        self.fc1 = nn.Linear(16 * 5 * 5, 120)\n",
    "        self.fc2 = nn.Linear(120, 84)\n",
    "        self.fc3 = nn.Linear(84, 10)\n",
    "\n",
    "    def forward(self, x):\n",
    "        x = F.max_pool2d(F.relu(self.conv1(x)), (2, 2))\n",
    "        x = F.max_pool2d(F.relu(self.conv2(x)), 2)\n",
    "        x = x.view(-1, int(x.nelement() / x.shape[0]))\n",
    "        x = F.relu(self.fc1(x))\n",
    "        x = F.relu(self.fc2(x))\n",
    "        x = self.fc3(x)\n",
    "        return x\n",
    "\n",
    "def get_model(model_name):\n",
    "    # this example only supports LeNet but can be easily extended to other models\n",
    "    if model_name.lower() == \"lenet\":\n",
    "        return LeNet()\n",
    "    else:\n",
    "        raise ValueError('Only value currently supported for `model_name` is \"lenet\"')\n",
    "    \n",
    "\n",
    "def get_optimizer(optimizer_name, parameters, **kwargs):\n",
    "    # this example only supports adam and sgd but can be easily extended to other optimizers\n",
    "    if optimizer_name.lower() == \"adam\":\n",
    "        optimizer = torch.optim.Adam(parameters, **kwargs)\n",
    "    elif optimizer_name.lower() == \"sgd\":\n",
    "        optimizer = torch.optim.SGD(parameters, **kwargs)\n",
    "    else:\n",
    "        raise ValueError(\"`optimizer_name` must be one of {'adam', 'sgd'}\")\n",
    "    return optimizer"
   ]
  },
  {
   "cell_type": "markdown",
   "metadata": {},
   "source": [
    "With all the generic dataset, model, and optimizer fetching functions above, which are often found in many ML pipelines, we can now enter the `dagger` world and create a custom experiment state type called `MyExperimentState`, which will subclass `dagger`'s `ExperimentState` to specify what it means to be a new state in our own experiments."
   ]
  },
  {
   "cell_type": "markdown",
   "metadata": {},
   "source": [
    "Specifically, we will have to specify the properties that define and distringuish a state from another, as well as an `initialize_state` method with the instructions on how to generate a state from scratch."
   ]
  },
  {
   "cell_type": "code",
   "execution_count": 6,
   "metadata": {},
   "outputs": [],
   "source": [
    "class MyExperimentState(dg.ExperimentState):\n",
    "    \n",
    "    # properties that will be serialized with the state\n",
    "    PROPERTIES = [\n",
    "        \"dataset_name\",\n",
    "        \"model_name\",\n",
    "        \"optimizer_name\",\n",
    "        \"dataloader_hparams\",\n",
    "        \"optimizer_hparams\",\n",
    "        \"seed\",\n",
    "    ]\n",
    "\n",
    "    # properties that will not be serialized with the state\n",
    "    NONHASHED_ATTRIBUTES = [\n",
    "        \"train_dataloader\",\n",
    "        \"test_dataloader\",\n",
    "        \"model\",\n",
    "        \"optimizer\",\n",
    "    ]\n",
    "    \n",
    "    def __init__(self, parent_sha, experiment_object):\n",
    "        super().__init__(parent_sha, experiment_object)\n",
    "\n",
    "    def initialize_state(self, init_schema=None, parallel=False, **kwargs):\n",
    "        \"\"\"Initializing a state, in this example, means instantiating the right model, dataloaders, and optimizer.\n",
    "        \"\"\"\n",
    "        self.seed = kwargs.get(\"seed\", 0)\n",
    "        set_reproducible_seed(self.seed)  # function defined at the top of the notebook\n",
    "\n",
    "        # Instantiate dataloaders\n",
    "        self.train_dataloader, self.test_dataloader = get_dataloaders(**self.dataloader_hparams)\n",
    "\n",
    "        # Instantiate model\n",
    "        self.model = get_model(self.model_name)\n",
    "\n",
    "        # Instantiate optimizer\n",
    "        self.optimizer = get_optimizer(\n",
    "            self.optimizer_name,\n",
    "            self.model.parameters(),\n",
    "            **self.optimizer_hparams,\n",
    "        )"
   ]
  },
  {
   "cell_type": "markdown",
   "metadata": {},
   "source": [
    "Now that we have defined a new type of experiment state that is unique to the experiments we want to run, let's initialize an experiment by specifying the type of experiment states it will hold and the directory where they will be stored."
   ]
  },
  {
   "cell_type": "code",
   "execution_count": 7,
   "metadata": {},
   "outputs": [],
   "source": [
    "exp = dg.Experiment(directory='./example/', state_class=MyExperimentState)"
   ]
  },
  {
   "cell_type": "code",
   "execution_count": 8,
   "metadata": {},
   "outputs": [
    {
     "data": {
      "text/plain": [
       "PosixPath('/private/home/michela/dagger/tutorials/example')"
      ]
     },
     "execution_count": 8,
     "metadata": {},
     "output_type": "execute_result"
    }
   ],
   "source": [
    "exp.directory"
   ]
  },
  {
   "cell_type": "markdown",
   "metadata": {},
   "source": [
    "The experiment is currently an empty container, as no instructions have been provided to initialize the experiment"
   ]
  },
  {
   "cell_type": "code",
   "execution_count": 9,
   "metadata": {},
   "outputs": [
    {
     "data": {
      "text/plain": [
       "{}"
      ]
     },
     "execution_count": 9,
     "metadata": {},
     "output_type": "execute_result"
    }
   ],
   "source": [
    "exp.leaves"
   ]
  },
  {
   "cell_type": "code",
   "execution_count": 10,
   "metadata": {},
   "outputs": [
    {
     "data": {
      "text/plain": [
       "True"
      ]
     },
     "execution_count": 10,
     "metadata": {},
     "output_type": "execute_result"
    }
   ],
   "source": [
    "exp.root is None"
   ]
  },
  {
   "cell_type": "code",
   "execution_count": 11,
   "metadata": {},
   "outputs": [
    {
     "data": {
      "text/plain": [
       "True"
      ]
     },
     "execution_count": 11,
     "metadata": {},
     "output_type": "execute_result"
    }
   ],
   "source": [
    "exp.graph is None"
   ]
  },
  {
   "cell_type": "markdown",
   "metadata": {},
   "source": [
    "The experiment container has been created, but it still doesn't contain any experiment state. Let's start by creating a root, from which all other experiment states will originate. This means creating an instance of `MyExperimentState`. Instead of doing it manually in an ephemeral way, we can use the `.spawn_new_tree` method of a `dagger` `Experiment`."
   ]
  },
  {
   "cell_type": "code",
   "execution_count": 12,
   "metadata": {},
   "outputs": [],
   "source": [
    "seed = 123"
   ]
  },
  {
   "cell_type": "code",
   "execution_count": 13,
   "metadata": {},
   "outputs": [
    {
     "name": "stderr",
     "output_type": "stream",
     "text": [
      "INFO:dagger:No cached state at: /private/home/michela/dagger/tutorials/example/62bee8c1ddf044584494779cf50e344a-root\n",
      "INFO:dagger:Root state unsaved - saving now\n",
      "DEBUG:dagger:Saving to: /private/home/michela/dagger/tutorials/example/62bee8c1ddf044584494779cf50e344a-root\n"
     ]
    }
   ],
   "source": [
    "dataloader_hparams = {\n",
    "    \"dataset\": \"mnist\",\n",
    "    \"root\": \"~/data/\",\n",
    "    \"train_batch_size\": 64,\n",
    "    \"test_batch_size\": 64,\n",
    "    \"num_workers\": 0,\n",
    "    \"seed\": seed,\n",
    "}\n",
    "\n",
    "optimizer_hparams = {\"lr\": 0.01}\n",
    "\n",
    "# Let the Experiment `exp` know what model, dataset, optimizer (and all their hyperparams) to use to generate\n",
    "# the root state.\n",
    "x = exp.spawn_new_tree(\n",
    "    dataset_name=dataloader_hparams[\"dataset\"],\n",
    "    model_name=\"lenet\",\n",
    "    optimizer_name=\"sgd\",\n",
    "    dataloader_hparams=dataloader_hparams,\n",
    "    optimizer_hparams=optimizer_hparams,\n",
    "    seed=seed,\n",
    ")"
   ]
  },
  {
   "cell_type": "code",
   "execution_count": 14,
   "metadata": {},
   "outputs": [
    {
     "data": {
      "text/plain": [
       "MyExperimentState(sha=62bee8c1ddf044584494779cf50e344a-root, tags=[])"
      ]
     },
     "execution_count": 14,
     "metadata": {},
     "output_type": "execute_result"
    }
   ],
   "source": [
    "exp.root"
   ]
  },
  {
   "cell_type": "code",
   "execution_count": 15,
   "metadata": {},
   "outputs": [],
   "source": [
    "# ^^this should also be added to the nodes and leaves??"
   ]
  },
  {
   "cell_type": "code",
   "execution_count": 16,
   "metadata": {},
   "outputs": [
    {
     "data": {
      "text/plain": [
       "{'dataset_name': 'mnist',\n",
       " 'model_name': 'lenet',\n",
       " 'optimizer_name': 'sgd',\n",
       " 'dataloader_hparams': {'dataset': 'mnist',\n",
       "  'root': '~/data/',\n",
       "  'train_batch_size': 64,\n",
       "  'test_batch_size': 64,\n",
       "  'num_workers': 0,\n",
       "  'seed': 123},\n",
       " 'optimizer_hparams': {'lr': 0.01},\n",
       " 'seed': 123}"
      ]
     },
     "execution_count": 16,
     "metadata": {},
     "output_type": "execute_result"
    }
   ],
   "source": [
    "exp.experiment_arguments"
   ]
  },
  {
   "cell_type": "code",
   "execution_count": 17,
   "metadata": {},
   "outputs": [
    {
     "data": {
      "text/plain": [
       "LeNet(\n",
       "  (conv1): Conv2d(1, 6, kernel_size=(3, 3), stride=(1, 1))\n",
       "  (conv2): Conv2d(6, 16, kernel_size=(3, 3), stride=(1, 1))\n",
       "  (fc1): Linear(in_features=400, out_features=120, bias=True)\n",
       "  (fc2): Linear(in_features=120, out_features=84, bias=True)\n",
       "  (fc3): Linear(in_features=84, out_features=10, bias=True)\n",
       ")"
      ]
     },
     "execution_count": 17,
     "metadata": {},
     "output_type": "execute_result"
    }
   ],
   "source": [
    "exp.root.model"
   ]
  },
  {
   "cell_type": "code",
   "execution_count": 18,
   "metadata": {},
   "outputs": [
    {
     "data": {
      "text/plain": [
       "<torch.utils.data.dataloader.DataLoader at 0x7f0068cae780>"
      ]
     },
     "execution_count": 18,
     "metadata": {},
     "output_type": "execute_result"
    }
   ],
   "source": [
    "exp.root.train_dataloader"
   ]
  },
  {
   "cell_type": "code",
   "execution_count": 19,
   "metadata": {},
   "outputs": [
    {
     "data": {
      "text/plain": [
       "'62bee8c1ddf044584494779cf50e344a-root'"
      ]
     },
     "execution_count": 19,
     "metadata": {},
     "output_type": "execute_result"
    }
   ],
   "source": [
    "exp.root.sha()"
   ]
  },
  {
   "cell_type": "code",
   "execution_count": 20,
   "metadata": {},
   "outputs": [
    {
     "data": {
      "text/plain": [
       "123"
      ]
     },
     "execution_count": 20,
     "metadata": {},
     "output_type": "execute_result"
    }
   ],
   "source": [
    "exp.root.seed"
   ]
  },
  {
   "cell_type": "code",
   "execution_count": 21,
   "metadata": {},
   "outputs": [
    {
     "data": {
      "text/plain": [
       "PosixPath('/private/home/michela/dagger/tutorials/example/62bee8c1ddf044584494779cf50e344a-root')"
      ]
     },
     "execution_count": 21,
     "metadata": {},
     "output_type": "execute_result"
    }
   ],
   "source": [
    "exp.root.path"
   ]
  },
  {
   "cell_type": "markdown",
   "metadata": {},
   "source": [
    "Now that we have initialized a shared root for all experiments, we can start deriving child states from it depending on the scientific questions we are interested in asking about the model. To generate a child state, we need to act on the root with a `Recipe` which will specify the actions that turn the root into a new state (i.e. a new instance of `MyExperimentState` attached to the same `Experiment`). The `exp` object will track provenance of all experiment states."
   ]
  },
  {
   "cell_type": "markdown",
   "metadata": {},
   "source": [
    "Say, for example, that the experiment we are interested in running here is the comparison between training the full model versus training a randomly pruned version of the same model. We will need two `Recipe`s: one that trains the model, one that prunes and then trains the model."
   ]
  },
  {
   "cell_type": "code",
   "execution_count": 22,
   "metadata": {},
   "outputs": [],
   "source": [
    "# For reproducibility purposes, let's go through the intermediate step of creating a SeededRecipe for seed handling\n",
    "class SeededRecipe(dg.Recipe):\n",
    "    def __call__(self, experiment_state):\n",
    "        self.experiment_object = experiment_state.experiment_object\n",
    "        if not hasattr(self, \"seed\") or self.seed is None:\n",
    "            self.seed = self.experiment_object.root.seed\n",
    "        return super().__call__(experiment_state)\n",
    "\n",
    "    def set_seed(self):\n",
    "        set_reproducible_seed(self.seed)  # defined at the top of the notebook"
   ]
  },
  {
   "cell_type": "code",
   "execution_count": 23,
   "metadata": {},
   "outputs": [],
   "source": [
    "class TrainRecipe(SeededRecipe):\n",
    "\n",
    "    PROPERTIES = [\"nb_epochs\", \"seed\"]\n",
    "\n",
    "    def __init__(self, nb_epochs, seed=None):\n",
    "        self.nb_epochs = nb_epochs\n",
    "        self.seed = seed\n",
    "\n",
    "    def run(self, new_state):\n",
    "        self.set_seed()\n",
    "        new_state.model.train()\n",
    "        loss_func = torch.nn.CrossEntropyLoss()\n",
    "\n",
    "        # Training loop\n",
    "        for epoch_n in range(self.nb_epochs):\n",
    "            print('Epoch: {}'.format(epoch_n))\n",
    "            for batch_n, (X, y) in enumerate(new_state.train_dataloader):\n",
    "                # train\n",
    "                new_state.optimizer.zero_grad()\n",
    "                yhat = new_state.model(X)\n",
    "                loss = loss_func(yhat, y)\n",
    "                loss.backward()\n",
    "                new_state.optimizer.step()\n",
    "\n",
    "        return new_state"
   ]
  },
  {
   "cell_type": "code",
   "execution_count": 24,
   "metadata": {},
   "outputs": [],
   "source": [
    "class PruneRecipe(SeededRecipe):\n",
    "\n",
    "    PROPERTIES = [\"schema\", \"seed\"]\n",
    "\n",
    "    def __init__(self, schema, seed=None):\n",
    "        self.schema = schema\n",
    "        self.seed = seed\n",
    "\n",
    "    def run(self, new_state):\n",
    "        self.set_seed()\n",
    "        \n",
    "        def _prune_model(model, pruning_schema):\n",
    "            \"\"\"Use the instructions in the pruning schema to apply the correct pruning\n",
    "            function to the correct tensor within the correct module.\n",
    "            This uses `named_modules` to get the module object.\n",
    "            \"\"\"\n",
    "            for (module_name, tensor_name), pruning_fn in pruning_schema.items():\n",
    "                # use the module name to extract the module from the model\n",
    "                if module_name not in dict(model.named_modules()):\n",
    "                    raise KeyError(\n",
    "                        \"Module {} not found. Available modules: {}\".format(\n",
    "                            module_name, dict(model.named_modules()).keys()\n",
    "                        )\n",
    "                    )\n",
    "                module = dict(model.named_modules())[module_name]\n",
    "                # now that we have both module and tensor_name, we prune them\n",
    "                pruning_fn(module, tensor_name)\n",
    "\n",
    "        _prune_model(\n",
    "            model=new_state.model,\n",
    "            pruning_schema=self.schema,\n",
    "        )\n",
    "        return new_state"
   ]
  },
  {
   "cell_type": "markdown",
   "metadata": {},
   "source": [
    "As defined above, a PruningRecipe will need a pruning schema that will provide instructions on how to prune each parameter in the model. Since we only want to prune weights (and not biases) at random by removing 50% of their connections, the schema below will do."
   ]
  },
  {
   "cell_type": "code",
   "execution_count": 25,
   "metadata": {},
   "outputs": [],
   "source": [
    "import torch.nn.utils.prune as prune\n",
    "pruning_schema = {\n",
    "    (\"conv1\", \"weight\"): partial(prune.random_unstructured, amount=0.5),\n",
    "    (\"conv2\", \"weight\"): partial(prune.random_unstructured, amount=0.5),\n",
    "    (\"fc1\", \"weight\"): partial(prune.random_unstructured, amount=0.5),\n",
    "    (\"fc2\", \"weight\"): partial(prune.random_unstructured, amount=0.5),\n",
    "    (\"fc3\", \"weight\"): partial(prune.random_unstructured, amount=0.5),\n",
    "}"
   ]
  },
  {
   "cell_type": "code",
   "execution_count": 26,
   "metadata": {},
   "outputs": [],
   "source": [
    "a = TrainRecipe(nb_epochs=1)(x)"
   ]
  },
  {
   "cell_type": "code",
   "execution_count": 27,
   "metadata": {},
   "outputs": [],
   "source": [
    "b = TrainRecipe(nb_epochs=1)(\n",
    "        PruneRecipe(schema=pruning_schema)(x)\n",
    ")"
   ]
  },
  {
   "cell_type": "code",
   "execution_count": 28,
   "metadata": {},
   "outputs": [
    {
     "data": {
      "text/plain": [
       "{UUID('73613848-ed4d-413c-9f50-07b41663172f'): Delayed('run_recipe-667bab97-73e8-4a0d-8004-b4b73b40b1c2'),\n",
       " UUID('542e2e6b-568d-491a-9f79-25746665ad68'): Delayed('run_recipe-7b012b9b-bea2-4bb0-b803-9187af7f9aaf')}"
      ]
     },
     "execution_count": 28,
     "metadata": {},
     "output_type": "execute_result"
    }
   ],
   "source": [
    "exp.leaves"
   ]
  },
  {
   "cell_type": "code",
   "execution_count": 29,
   "metadata": {},
   "outputs": [
    {
     "name": "stderr",
     "output_type": "stream",
     "text": [
      "INFO:dagger:No cached state at: /private/home/michela/dagger/tutorials/example/48d6fa140909a216a8bb4cf557ac922c\n",
      "DEBUG:dagger:Saving to: /private/home/michela/dagger/tutorials/example/48d6fa140909a216a8bb4cf557ac922c\n",
      "INFO:dagger:No cached state at: /private/home/michela/dagger/tutorials/example/22f54778d497611f21fa6f998f270572\n"
     ]
    },
    {
     "name": "stdout",
     "output_type": "stream",
     "text": [
      "Epoch: 0\n"
     ]
    },
    {
     "name": "stderr",
     "output_type": "stream",
     "text": [
      "DEBUG:dagger:Saving to: /private/home/michela/dagger/tutorials/example/22f54778d497611f21fa6f998f270572\n",
      "INFO:dagger:No cached state at: /private/home/michela/dagger/tutorials/example/d296b6e17e99ef92fd6c728507198d69\n"
     ]
    },
    {
     "name": "stdout",
     "output_type": "stream",
     "text": [
      "Epoch: 0\n"
     ]
    },
    {
     "name": "stderr",
     "output_type": "stream",
     "text": [
      "DEBUG:dagger:Saving to: /private/home/michela/dagger/tutorials/example/d296b6e17e99ef92fd6c728507198d69\n"
     ]
    }
   ],
   "source": [
    "exp.run()"
   ]
  },
  {
   "cell_type": "markdown",
   "metadata": {},
   "source": [
    "# Analysis"
   ]
  },
  {
   "cell_type": "markdown",
   "metadata": {},
   "source": [
    "Now that the experiment has been run, one could even safely close and restart this notebook to simulate the experience of analyzing the results at a later point in time."
   ]
  },
  {
   "cell_type": "markdown",
   "metadata": {},
   "source": [
    "The key point of `dagger` is that it powers quick analysis of complex experiment results through an intuitive API that allows users to visualize and filter experiment states by tag, level, etc."
   ]
  },
  {
   "cell_type": "code",
   "execution_count": 30,
   "metadata": {},
   "outputs": [],
   "source": [
    "import dagger as dg"
   ]
  },
  {
   "cell_type": "markdown",
   "metadata": {},
   "source": [
    "Restore an experiment from disk by specifying its location and the type of experiment states it contains"
   ]
  },
  {
   "cell_type": "code",
   "execution_count": 33,
   "metadata": {},
   "outputs": [],
   "source": [
    "exp = dg.Experiment.restore(directory='./example/', state_class=MyExperimentState)"
   ]
  },
  {
   "cell_type": "markdown",
   "metadata": {},
   "source": [
    "Draw the experiment tree for visual inspection"
   ]
  },
  {
   "cell_type": "code",
   "execution_count": 34,
   "metadata": {},
   "outputs": [
    {
     "name": "stderr",
     "output_type": "stream",
     "text": [
      "DEBUG:graphviz.files:write 949 bytes to './example/graph'\n",
      "DEBUG:graphviz.backend:run ['dot', '-Tpng', '-O', 'graph']\n",
      "DEBUG:graphviz.files:delete './example/graph'\n"
     ]
    },
    {
     "data": {
      "image/png": "[encoded data removed]",
      "text/plain": [
       "<IPython.core.display.Image object>"
      ]
     },
     "execution_count": 34,
     "metadata": {},
     "output_type": "execute_result"
    }
   ],
   "source": [
    "exp.graph.draw(filename='./example/graph', format='png', view=True)"
   ]
  },
  {
   "cell_type": "markdown",
   "metadata": {},
   "source": [
    "This tree clearly shows all experiment states in the experiment with their associated SHAs. The root is easy to identify (level=0). All other experiment states originate from the root and are connected in a DAG-like fashion.\n",
    "One one side we have the state that corresponds to simply training the model that was initialized in the root; on the other side, we have a state that corresponds to first pruning the model that was initialized in the root, and then training that pruned model."
   ]
  },
  {
   "cell_type": "markdown",
   "metadata": {},
   "source": [
    "It is true, however, that, unless one already knows the exact logic that went into the generation of these experiment states, it is very hard from this visualization to know exactly what each state represents. Thankfully, `dagger` easily solves the problem by letting you add `tags` to each state to easily identify and filter them. This can be achieved by simply encapsulating the recipes with `with` statements:"
   ]
  },
  {
   "cell_type": "code",
   "execution_count": 35,
   "metadata": {},
   "outputs": [],
   "source": [
    "with exp.tag(\"train1epoch\"):\n",
    "    c = TrainRecipe(nb_epochs=1, seed=123)(exp.root.to_promise())\n",
    "    \n",
    "# This new node will be attached to the root, in this example, but can be attached to any other node\n",
    "# Note: remember to transform the node to a dagger.ExperimentStatePromise so that dask can run the new graph"
   ]
  },
  {
   "cell_type": "code",
   "execution_count": 36,
   "metadata": {},
   "outputs": [
    {
     "name": "stderr",
     "output_type": "stream",
     "text": [
      "INFO:dagger:No cached state at: /private/home/michela/dagger/tutorials/example/048559c33aa862acc226c32a553bab4b\n"
     ]
    },
    {
     "name": "stdout",
     "output_type": "stream",
     "text": [
      "Epoch: 0\n"
     ]
    },
    {
     "name": "stderr",
     "output_type": "stream",
     "text": [
      "DEBUG:dagger:Saving to: /private/home/michela/dagger/tutorials/example/048559c33aa862acc226c32a553bab4b\n"
     ]
    }
   ],
   "source": [
    "exp.run()"
   ]
  },
  {
   "cell_type": "markdown",
   "metadata": {},
   "source": [
    "Now that the new node has been attached, let's restore and replot the experiment to see how this need node (and its `tags`) appear"
   ]
  },
  {
   "cell_type": "code",
   "execution_count": 37,
   "metadata": {},
   "outputs": [
    {
     "name": "stderr",
     "output_type": "stream",
     "text": [
      "DEBUG:graphviz.files:write 1243 bytes to './example/graph'\n",
      "DEBUG:graphviz.backend:run ['dot', '-Tpng', '-O', 'graph']\n",
      "DEBUG:graphviz.files:delete './example/graph'\n"
     ]
    },
    {
     "data": {
      "image/png": "[encoded data removed]",
      "text/plain": [
       "<IPython.core.display.Image object>"
      ]
     },
     "execution_count": 37,
     "metadata": {},
     "output_type": "execute_result"
    }
   ],
   "source": [
    "exp = dg.Experiment.restore(directory='./example/', state_class=MyExperimentState)\n",
    "exp.graph.draw(filename='./example/graph', format='png', view=True)"
   ]
  },
  {
   "cell_type": "markdown",
   "metadata": {},
   "source": [
    "Now that we have a full experiment tree, as an example analysis, let's evaluate some simple metrics (such as accuracy) for the models at all leaf states. First, define the evaluation function:"
   ]
  },
  {
   "cell_type": "code",
   "execution_count": 38,
   "metadata": {},
   "outputs": [],
   "source": [
    "def eval_model(model, loader, eval_fn=None, device=torch.device(\"cpu\")):\n",
    "    \"\"\"Main evaluation loop for a model. Allows for configurable metric.\"\"\"\n",
    "\n",
    "    # Default eval metric: accuracy\n",
    "    if not eval_fn:\n",
    "        def eval_fn(y_true, y_pred):\n",
    "            return (y_pred.argmax(-1) == y_true).sum().item()\n",
    "\n",
    "    training = model.training\n",
    "\n",
    "    # Eval loop\n",
    "    model.eval()\n",
    "    total_examples = len(loader.dataset)\n",
    "    total_metric = 0\n",
    "    model = model.to(device=device)\n",
    "\n",
    "    with torch.no_grad():\n",
    "        for X, y in loader:\n",
    "            X = X.to(device=device)\n",
    "            y = y.to(device=device)\n",
    "            y_pred = model(X)\n",
    "\n",
    "            batch_metric = eval_fn(y_true=y, y_pred=y_pred)\n",
    "            if hasattr(batch_metric, \"item\"):\n",
    "                batch_metric = batch_metric.item()\n",
    "            total_metric += batch_metric\n",
    "\n",
    "    # Reset the model to training mode if that's the mode it was initially found in\n",
    "    if training:\n",
    "        model.train()\n",
    "\n",
    "    return float(total_metric) / total_examples"
   ]
  },
  {
   "cell_type": "markdown",
   "metadata": {},
   "source": [
    "Second, identify all leaf states by looping through the experiment's `edge_map` and selecting the nodes without children (the leaves, by definition)."
   ]
  },
  {
   "cell_type": "code",
   "execution_count": 39,
   "metadata": {},
   "outputs": [],
   "source": [
    "leaves = [node for node, children in exp.graph.edge_map.items() if not children]"
   ]
  },
  {
   "cell_type": "code",
   "execution_count": 40,
   "metadata": {},
   "outputs": [
    {
     "name": "stderr",
     "output_type": "stream",
     "text": [
      "INFO:dagger:State already exists at /private/home/michela/dagger/tutorials/example/22f54778d497611f21fa6f998f270572! Safely loading existing state.\n",
      "INFO:dagger:State already exists at /private/home/michela/dagger/tutorials/example/d296b6e17e99ef92fd6c728507198d69! Safely loading existing state.\n"
     ]
    },
    {
     "name": "stdout",
     "output_type": "stream",
     "text": [
      "Node 22f54778d497611f21fa6f998f270572, Accuracy 0.1135\n"
     ]
    },
    {
     "name": "stderr",
     "output_type": "stream",
     "text": [
      "INFO:dagger:State already exists at /private/home/michela/dagger/tutorials/example/048559c33aa862acc226c32a553bab4b! Safely loading existing state.\n"
     ]
    },
    {
     "name": "stdout",
     "output_type": "stream",
     "text": [
      "Node d296b6e17e99ef92fd6c728507198d69, Accuracy 0.8914\n",
      "Node 048559c33aa862acc226c32a553bab4b, Accuracy 0.8914\n"
     ]
    }
   ],
   "source": [
    "# Reload all leaves into memory one by one and evaluate the accuracy of their models\n",
    "for node, state in exp.graph.node_map.items():\n",
    "    if node in leaves:\n",
    "        with state.lazy_load():\n",
    "            print('Node {}, Accuracy {}'.format(\n",
    "                node,\n",
    "                eval_model(state.model, state.test_dataloader, device=torch.device(\"cuda\"))\n",
    "            ))"
   ]
  },
  {
   "cell_type": "markdown",
   "metadata": {},
   "source": [
    "As a sanity check, the states with the tag and without the tag that are otherwise identical (1 epoch of training from the same initialization) return the same accuracy."
   ]
  },
  {
   "cell_type": "markdown",
   "metadata": {},
   "source": [
    "The code in the previous cell can also be expressed by making use of a `dagger.Function`:"
   ]
  },
  {
   "cell_type": "code",
   "execution_count": 41,
   "metadata": {},
   "outputs": [
    {
     "name": "stderr",
     "output_type": "stream",
     "text": [
      "INFO:dagger:State already exists at /private/home/michela/dagger/tutorials/example/048559c33aa862acc226c32a553bab4b! Safely loading existing state.\n",
      "INFO:dagger:State already exists at /private/home/michela/dagger/tutorials/example/22f54778d497611f21fa6f998f270572! Safely loading existing state.\n"
     ]
    },
    {
     "name": "stdout",
     "output_type": "stream",
     "text": [
      "Node 048559c33aa862acc226c32a553bab4b, Accuracy 0.8914\n"
     ]
    },
    {
     "name": "stderr",
     "output_type": "stream",
     "text": [
      "INFO:dagger:State already exists at /private/home/michela/dagger/tutorials/example/d296b6e17e99ef92fd6c728507198d69! Safely loading existing state.\n"
     ]
    },
    {
     "name": "stdout",
     "output_type": "stream",
     "text": [
      "Node 22f54778d497611f21fa6f998f270572, Accuracy 0.1135\n",
      "Node d296b6e17e99ef92fd6c728507198d69, Accuracy 0.8914\n"
     ]
    }
   ],
   "source": [
    "evaluate_acc = dg.Function(\n",
    "    lambda s: print('Node {}, Accuracy {}'.format(\n",
    "        s.sha(),\n",
    "        eval_model(s.model, s.test_dataloader, device=torch.device(\"cuda\"))\n",
    "    ))\n",
    ")\n",
    "    \n",
    "for node, state in exp.graph.node_map.items():\n",
    "    if node in leaves:\n",
    "        evaluate_acc(state.to_promise())\n",
    "exp.run()"
   ]
  },
  {
   "cell_type": "markdown",
   "metadata": {},
   "source": [
    "Let's dig a bit deeper into all of the functionalities provided by `dagger` at the analysis stage."
   ]
  },
  {
   "cell_type": "code",
   "execution_count": 42,
   "metadata": {},
   "outputs": [
    {
     "data": {
      "text/plain": [
       "dagger.dag.StaticExperimentTree"
      ]
     },
     "execution_count": 42,
     "metadata": {},
     "output_type": "execute_result"
    }
   ],
   "source": [
    "type(exp.graph)"
   ]
  },
  {
   "cell_type": "markdown",
   "metadata": {},
   "source": [
    "The experiment graph is an instance of the `dagger` `StaticExperimentTree` class, which enables easy inspection of all experimental dependencies. Let's see how."
   ]
  },
  {
   "cell_type": "markdown",
   "metadata": {},
   "source": [
    "The list of all experiment states in the tree is wrapped in the `dagger` `NodeSet` inner class which allows for compositional filtering of states in the tree by `tag`."
   ]
  },
  {
   "cell_type": "code",
   "execution_count": 43,
   "metadata": {},
   "outputs": [
    {
     "data": {
      "text/plain": [
       "[MyExperimentState(sha=62bee8c1ddf044584494779cf50e344a-root, tags=[]),\n",
       " MyExperimentState(sha=48d6fa140909a216a8bb4cf557ac922c, tags=[]),\n",
       " MyExperimentState(sha=22f54778d497611f21fa6f998f270572, tags=[]),\n",
       " MyExperimentState(sha=d296b6e17e99ef92fd6c728507198d69, tags=[]),\n",
       " MyExperimentState(sha=048559c33aa862acc226c32a553bab4b, tags=['train1epoch'])]"
      ]
     },
     "execution_count": 43,
     "metadata": {},
     "output_type": "execute_result"
    }
   ],
   "source": [
    "exp.graph.nodes"
   ]
  },
  {
   "cell_type": "code",
   "execution_count": 44,
   "metadata": {},
   "outputs": [
    {
     "data": {
      "text/plain": [
       "dagger.dag.StaticExperimentTree.NodeSet"
      ]
     },
     "execution_count": 44,
     "metadata": {},
     "output_type": "execute_result"
    }
   ],
   "source": [
    "type(exp.graph.nodes)"
   ]
  },
  {
   "cell_type": "code",
   "execution_count": 45,
   "metadata": {},
   "outputs": [
    {
     "data": {
      "text/plain": [
       "MyExperimentState(sha=62bee8c1ddf044584494779cf50e344a-root, tags=[])"
      ]
     },
     "execution_count": 45,
     "metadata": {},
     "output_type": "execute_result"
    }
   ],
   "source": [
    "exp.graph.root  # easily access the root"
   ]
  },
  {
   "cell_type": "code",
   "execution_count": 46,
   "metadata": {},
   "outputs": [
    {
     "data": {
      "text/plain": [
       "MyExperimentState(sha=62bee8c1ddf044584494779cf50e344a-root, tags=[])"
      ]
     },
     "execution_count": 46,
     "metadata": {},
     "output_type": "execute_result"
    }
   ],
   "source": [
    "exp.graph.node('62bee8c1ddf044584494779cf50e344a-root')  # select state by sha"
   ]
  },
  {
   "cell_type": "code",
   "execution_count": 47,
   "metadata": {},
   "outputs": [
    {
     "data": {
      "text/plain": [
       "[MyExperimentState(sha=048559c33aa862acc226c32a553bab4b, tags=['train1epoch'])]"
      ]
     },
     "execution_count": 47,
     "metadata": {},
     "output_type": "execute_result"
    }
   ],
   "source": [
    "exp.graph.nodes.filter('train*epoch')  # filter states by tag"
   ]
  },
  {
   "cell_type": "code",
   "execution_count": 48,
   "metadata": {},
   "outputs": [
    {
     "data": {
      "text/plain": [
       "[MyExperimentState(sha=48d6fa140909a216a8bb4cf557ac922c, tags=[]),\n",
       " MyExperimentState(sha=d296b6e17e99ef92fd6c728507198d69, tags=[]),\n",
       " MyExperimentState(sha=048559c33aa862acc226c32a553bab4b, tags=['train1epoch'])]"
      ]
     },
     "execution_count": 48,
     "metadata": {},
     "output_type": "execute_result"
    }
   ],
   "source": [
    "exp.graph.nodes_at_distance(1)  # filter states by distance from the root"
   ]
  },
  {
   "cell_type": "code",
   "execution_count": 49,
   "metadata": {},
   "outputs": [
    {
     "name": "stderr",
     "output_type": "stream",
     "text": [
      "DEBUG:graphviz.backend:run ['dot', '-Tsvg']\n"
     ]
    },
    {
     "data": {
      "image/svg+xml": [
       "<?xml version=\"1.0\" encoding=\"UTF-8\" standalone=\"no\"?>\n",
       "<!DOCTYPE svg PUBLIC \"-//W3C//DTD SVG 1.1//EN\"\n",
       " \"http://www.w3.org/Graphics/SVG/1.1/DTD/svg11.dtd\">\n",
       "<!-- Generated by graphviz version 2.40.1 (20161225.0304)\n",
       " -->\n",
       "<!-- Title: %3 Pages: 1 -->\n",
       "<svg width=\"1295pt\" height=\"188pt\"\n",
       " viewBox=\"0.00 0.00 1295.00 188.00\" xmlns=\"http://www.w3.org/2000/svg\" xmlns:xlink=\"http://www.w3.org/1999/xlink\">\n",
       "<g id=\"graph0\" class=\"graph\" transform=\"scale(1 1) rotate(0) translate(4 184)\">\n",
       "<title>%3</title>\n",
       "<polygon fill=\"#ffffff\" stroke=\"transparent\" points=\"-4,4 -4,-184 1291,-184 1291,4 -4,4\"/>\n",
       "<!-- 62bee8c1ddf044584494779cf50e344a&#45;root -->\n",
       "<g id=\"node1\" class=\"node\">\n",
       "<title>62bee8c1ddf044584494779cf50e344a&#45;root</title>\n",
       "<polygon fill=\"none\" stroke=\"#000000\" points=\"920,-180 519,-180 519,-144 920,-144 920,-180\"/>\n",
       "<text text-anchor=\"start\" x=\"527\" y=\"-159.3\" font-family=\"menlo\" font-size=\"14.00\" fill=\"#0000ff\">62bee8c1ddf044584494779cf50e344a&#45;root</text>\n",
       "<text text-anchor=\"start\" x=\"840\" y=\"-159.3\" font-family=\"menlo\" font-size=\"14.00\" fill=\"#000000\"> (level=</text>\n",
       "<text text-anchor=\"start\" x=\"896\" y=\"-159.3\" font-family=\"menlo\" font-size=\"14.00\" fill=\"#ff00ff\">0</text>\n",
       "<text text-anchor=\"start\" x=\"906\" y=\"-159.3\" font-family=\"menlo\" font-size=\"14.00\" fill=\"#000000\">)</text>\n",
       "</g>\n",
       "<!-- 048559c33aa862acc226c32a553bab4b -->\n",
       "<g id=\"node2\" class=\"node\">\n",
       "<title>048559c33aa862acc226c32a553bab4b</title>\n",
       "<polygon fill=\"none\" stroke=\"#000000\" points=\"517,-108 0,-108 0,-72 517,-72 517,-108\"/>\n",
       "<text text-anchor=\"start\" x=\"8\" y=\"-87.3\" font-family=\"menlo\" font-size=\"14.00\" fill=\"#0000ff\">048559c33aa862acc226c32a553bab4b</text>\n",
       "<text text-anchor=\"start\" x=\"291\" y=\"-87.3\" font-family=\"menlo\" font-size=\"14.00\" fill=\"#000000\"> (level=</text>\n",
       "<text text-anchor=\"start\" x=\"347\" y=\"-87.3\" font-family=\"menlo\" font-size=\"14.00\" fill=\"#ff00ff\">1</text>\n",
       "<text text-anchor=\"start\" x=\"357\" y=\"-87.3\" font-family=\"menlo\" font-size=\"14.00\" fill=\"#000000\">, tags=</text>\n",
       "<text text-anchor=\"start\" x=\"409\" y=\"-87.3\" font-family=\"menlo\" font-size=\"14.00\" fill=\"#ff0000\">&#39;train1epoch&#39;</text>\n",
       "<text text-anchor=\"start\" x=\"503\" y=\"-87.3\" font-family=\"menlo\" font-size=\"14.00\" fill=\"#000000\">)</text>\n",
       "</g>\n",
       "<!-- 62bee8c1ddf044584494779cf50e344a&#45;root&#45;&gt;048559c33aa862acc226c32a553bab4b -->\n",
       "<g id=\"edge1\" class=\"edge\">\n",
       "<title>62bee8c1ddf044584494779cf50e344a&#45;root&#45;&gt;048559c33aa862acc226c32a553bab4b</title>\n",
       "<path fill=\"none\" stroke=\"#000000\" d=\"M604.0625,-143.9707C537.0807,-133.5094 452.6642,-120.325 384.0339,-109.6062\"/>\n",
       "<polygon fill=\"#000000\" stroke=\"#000000\" points=\"384.447,-106.1283 374.0266,-108.0432 383.3667,-113.0445 384.447,-106.1283\"/>\n",
       "</g>\n",
       "<!-- d296b6e17e99ef92fd6c728507198d69 -->\n",
       "<g id=\"node3\" class=\"node\">\n",
       "<title>d296b6e17e99ef92fd6c728507198d69</title>\n",
       "<polygon fill=\"none\" stroke=\"#000000\" points=\"903.5,-108 535.5,-108 535.5,-72 903.5,-72 903.5,-108\"/>\n",
       "<text text-anchor=\"start\" x=\"543.5\" y=\"-87.3\" font-family=\"menlo\" font-size=\"14.00\" fill=\"#0000ff\">d296b6e17e99ef92fd6c728507198d69</text>\n",
       "<text text-anchor=\"start\" x=\"823.5\" y=\"-87.3\" font-family=\"menlo\" font-size=\"14.00\" fill=\"#000000\"> (level=</text>\n",
       "<text text-anchor=\"start\" x=\"879.5\" y=\"-87.3\" font-family=\"menlo\" font-size=\"14.00\" fill=\"#ff00ff\">1</text>\n",
       "<text text-anchor=\"start\" x=\"889.5\" y=\"-87.3\" font-family=\"menlo\" font-size=\"14.00\" fill=\"#000000\">)</text>\n",
       "</g>\n",
       "<!-- 62bee8c1ddf044584494779cf50e344a&#45;root&#45;&gt;d296b6e17e99ef92fd6c728507198d69 -->\n",
       "<g id=\"edge2\" class=\"edge\">\n",
       "<title>62bee8c1ddf044584494779cf50e344a&#45;root&#45;&gt;d296b6e17e99ef92fd6c728507198d69</title>\n",
       "<path fill=\"none\" stroke=\"#000000\" d=\"M719.5,-143.8314C719.5,-136.131 719.5,-126.9743 719.5,-118.4166\"/>\n",
       "<polygon fill=\"#000000\" stroke=\"#000000\" points=\"723.0001,-118.4132 719.5,-108.4133 716.0001,-118.4133 723.0001,-118.4132\"/>\n",
       "</g>\n",
       "<!-- 48d6fa140909a216a8bb4cf557ac922c -->\n",
       "<g id=\"node4\" class=\"node\">\n",
       "<title>48d6fa140909a216a8bb4cf557ac922c</title>\n",
       "<polygon fill=\"none\" stroke=\"#000000\" points=\"1287,-108 922,-108 922,-72 1287,-72 1287,-108\"/>\n",
       "<text text-anchor=\"start\" x=\"930\" y=\"-87.3\" font-family=\"menlo\" font-size=\"14.00\" fill=\"#0000ff\">48d6fa140909a216a8bb4cf557ac922c</text>\n",
       "<text text-anchor=\"start\" x=\"1207\" y=\"-87.3\" font-family=\"menlo\" font-size=\"14.00\" fill=\"#000000\"> (level=</text>\n",
       "<text text-anchor=\"start\" x=\"1263\" y=\"-87.3\" font-family=\"menlo\" font-size=\"14.00\" fill=\"#ff00ff\">1</text>\n",
       "<text text-anchor=\"start\" x=\"1273\" y=\"-87.3\" font-family=\"menlo\" font-size=\"14.00\" fill=\"#000000\">)</text>\n",
       "</g>\n",
       "<!-- 62bee8c1ddf044584494779cf50e344a&#45;root&#45;&gt;48d6fa140909a216a8bb4cf557ac922c -->\n",
       "<g id=\"edge3\" class=\"edge\">\n",
       "<title>62bee8c1ddf044584494779cf50e344a&#45;root&#45;&gt;48d6fa140909a216a8bb4cf557ac922c</title>\n",
       "<path fill=\"none\" stroke=\"#000000\" d=\"M816.1548,-143.9243C871.5232,-133.5697 941.0945,-120.5589 998.027,-109.9118\"/>\n",
       "<polygon fill=\"#000000\" stroke=\"#000000\" points=\"998.9532,-113.2994 1008.1394,-108.0207 997.6664,-106.4187 998.9532,-113.2994\"/>\n",
       "</g>\n",
       "<!-- 22f54778d497611f21fa6f998f270572 -->\n",
       "<g id=\"node5\" class=\"node\">\n",
       "<title>22f54778d497611f21fa6f998f270572</title>\n",
       "<polygon fill=\"none\" stroke=\"#000000\" points=\"1283.5,-36 925.5,-36 925.5,0 1283.5,0 1283.5,-36\"/>\n",
       "<text text-anchor=\"start\" x=\"933.5\" y=\"-15.3\" font-family=\"menlo\" font-size=\"14.00\" fill=\"#0000ff\">22f54778d497611f21fa6f998f270572</text>\n",
       "<text text-anchor=\"start\" x=\"1203.5\" y=\"-15.3\" font-family=\"menlo\" font-size=\"14.00\" fill=\"#000000\"> (level=</text>\n",
       "<text text-anchor=\"start\" x=\"1259.5\" y=\"-15.3\" font-family=\"menlo\" font-size=\"14.00\" fill=\"#ff00ff\">2</text>\n",
       "<text text-anchor=\"start\" x=\"1269.5\" y=\"-15.3\" font-family=\"menlo\" font-size=\"14.00\" fill=\"#000000\">)</text>\n",
       "</g>\n",
       "<!-- 48d6fa140909a216a8bb4cf557ac922c&#45;&gt;22f54778d497611f21fa6f998f270572 -->\n",
       "<g id=\"edge4\" class=\"edge\">\n",
       "<title>48d6fa140909a216a8bb4cf557ac922c&#45;&gt;22f54778d497611f21fa6f998f270572</title>\n",
       "<path fill=\"none\" stroke=\"#000000\" d=\"M1104.5,-71.8314C1104.5,-64.131 1104.5,-54.9743 1104.5,-46.4166\"/>\n",
       "<polygon fill=\"#000000\" stroke=\"#000000\" points=\"1108.0001,-46.4132 1104.5,-36.4133 1101.0001,-46.4133 1108.0001,-46.4132\"/>\n",
       "</g>\n",
       "</g>\n",
       "</svg>\n"
      ],
      "text/plain": [
       "<graphviz.dot.Digraph at 0x7f0060f0e438>"
      ]
     },
     "execution_count": 49,
     "metadata": {},
     "output_type": "execute_result"
    }
   ],
   "source": [
    "exp.graph.to_graphviz()  # plot experiment tree without saving"
   ]
  },
  {
   "cell_type": "markdown",
   "metadata": {},
   "source": [
    "It is worth noting that, at this point, **none of the experiments (with related models, masks, dataloaders, etc) is fully loaded into memory**. If that were the case, no large experiments with multiple states could easily be analyzed due to memory constraints. Instead, only their minimal (\"slim\") version is currently loaded. This allows us to access only the basic info needed to reconstruct the tree dependencies (children, parents, shas, tags). Let's pick any state and call it `s`."
   ]
  },
  {
   "cell_type": "code",
   "execution_count": 50,
   "metadata": {},
   "outputs": [
    {
     "data": {
      "text/plain": [
       "True"
      ]
     },
     "execution_count": 50,
     "metadata": {},
     "output_type": "execute_result"
    }
   ],
   "source": [
    "s = exp.graph.nodes[0]\n",
    "s.slim_loaded"
   ]
  },
  {
   "cell_type": "code",
   "execution_count": 51,
   "metadata": {},
   "outputs": [
    {
     "data": {
      "text/plain": [
       "{'parent_sha': None,\n",
       " 'slim_sha': '62bee8c1ddf044584494779cf50e344a-root',\n",
       " 'slim_loaded': True,\n",
       " 'tags': [],\n",
       " 'experiment_object': <dagger.dag.Experiment at 0x7f0060940160>,\n",
       " 'children': {MyExperimentState(sha=048559c33aa862acc226c32a553bab4b, tags=['train1epoch']),\n",
       "  MyExperimentState(sha=48d6fa140909a216a8bb4cf557ac922c, tags=[]),\n",
       "  MyExperimentState(sha=d296b6e17e99ef92fd6c728507198d69, tags=[])},\n",
       " 'parent': None}"
      ]
     },
     "execution_count": 51,
     "metadata": {},
     "output_type": "execute_result"
    }
   ],
   "source": [
    "s.__dict__"
   ]
  },
  {
   "cell_type": "markdown",
   "metadata": {},
   "source": [
    "To fully load an experiment state (node) in memory for full analysis, we need to restore it:"
   ]
  },
  {
   "cell_type": "code",
   "execution_count": 52,
   "metadata": {},
   "outputs": [
    {
     "name": "stderr",
     "output_type": "stream",
     "text": [
      "INFO:dagger:State already exists at /private/home/michela/dagger/tutorials/example/62bee8c1ddf044584494779cf50e344a-root! Safely loading existing state.\n"
     ]
    },
    {
     "data": {
      "text/plain": [
       "True"
      ]
     },
     "execution_count": 52,
     "metadata": {},
     "output_type": "execute_result"
    }
   ],
   "source": [
    "s.restore()"
   ]
  },
  {
   "cell_type": "code",
   "execution_count": 53,
   "metadata": {},
   "outputs": [
    {
     "data": {
      "text/plain": [
       "False"
      ]
     },
     "execution_count": 53,
     "metadata": {},
     "output_type": "execute_result"
    }
   ],
   "source": [
    "s.slim_loaded  # it is now fully loaded"
   ]
  },
  {
   "cell_type": "code",
   "execution_count": 54,
   "metadata": {},
   "outputs": [
    {
     "data": {
      "text/plain": [
       "{'parent_sha': None,\n",
       " 'from_cache': True,\n",
       " 'root_state': True,\n",
       " 'save_pre_hooks': [],\n",
       " 'save_post_hooks': [],\n",
       " 'load_post_hooks': [],\n",
       " '_recipe': None,\n",
       " 'slim_loaded': False,\n",
       " 'slim_sha': None,\n",
       " 'tags': [],\n",
       " 'dataset_name': 'mnist',\n",
       " 'model_name': 'lenet',\n",
       " 'optimizer_name': 'sgd',\n",
       " 'dataloader_hparams': {'dataset': 'mnist',\n",
       "  'root': '~/data/',\n",
       "  'train_batch_size': 64,\n",
       "  'test_batch_size': 64,\n",
       "  'num_workers': 0,\n",
       "  'seed': 123},\n",
       " 'optimizer_hparams': {'lr': 0.01},\n",
       " 'seed': 123,\n",
       " 'train_dataloader': <torch.utils.data.dataloader.DataLoader at 0x7f0060ef7160>,\n",
       " 'test_dataloader': <torch.utils.data.dataloader.DataLoader at 0x7f0159443240>,\n",
       " 'model': LeNet(\n",
       "   (conv1): Conv2d(1, 6, kernel_size=(3, 3), stride=(1, 1))\n",
       "   (conv2): Conv2d(6, 16, kernel_size=(3, 3), stride=(1, 1))\n",
       "   (fc1): Linear(in_features=400, out_features=120, bias=True)\n",
       "   (fc2): Linear(in_features=120, out_features=84, bias=True)\n",
       "   (fc3): Linear(in_features=84, out_features=10, bias=True)\n",
       " ),\n",
       " 'optimizer': SGD (\n",
       " Parameter Group 0\n",
       "     dampening: 0\n",
       "     lr: 0.01\n",
       "     momentum: 0\n",
       "     nesterov: False\n",
       "     weight_decay: 0\n",
       " ),\n",
       " 'parent': None,\n",
       " 'children': {MyExperimentState(sha=048559c33aa862acc226c32a553bab4b, tags=['train1epoch']),\n",
       "  MyExperimentState(sha=48d6fa140909a216a8bb4cf557ac922c, tags=[]),\n",
       "  MyExperimentState(sha=d296b6e17e99ef92fd6c728507198d69, tags=[])},\n",
       " 'experiment_object': <dagger.dag.Experiment at 0x7f0060940160>}"
      ]
     },
     "execution_count": 54,
     "metadata": {},
     "output_type": "execute_result"
    }
   ],
   "source": [
    "s = exp.graph.nodes[0]\n",
    "s.__dict__"
   ]
  },
  {
   "cell_type": "markdown",
   "metadata": {},
   "source": [
    "To remove the state from memory once you're done using it, make sure to deflate it:"
   ]
  },
  {
   "cell_type": "code",
   "execution_count": 55,
   "metadata": {},
   "outputs": [
    {
     "data": {
      "text/plain": [
       "True"
      ]
     },
     "execution_count": 55,
     "metadata": {},
     "output_type": "execute_result"
    }
   ],
   "source": [
    "s.deflate()"
   ]
  },
  {
   "cell_type": "code",
   "execution_count": 56,
   "metadata": {},
   "outputs": [
    {
     "data": {
      "text/plain": [
       "True"
      ]
     },
     "execution_count": 56,
     "metadata": {},
     "output_type": "execute_result"
    }
   ],
   "source": [
    "s.slim_loaded"
   ]
  },
  {
   "cell_type": "markdown",
   "metadata": {},
   "source": [
    "We suggest using this with context managers (`with` statements, or the `dagger` provided `iterator`):"
   ]
  },
  {
   "cell_type": "code",
   "execution_count": 57,
   "metadata": {},
   "outputs": [
    {
     "name": "stderr",
     "output_type": "stream",
     "text": [
      "INFO:dagger:State already exists at /private/home/michela/dagger/tutorials/example/62bee8c1ddf044584494779cf50e344a-root! Safely loading existing state.\n",
      "INFO:dagger:State already exists at /private/home/michela/dagger/tutorials/example/48d6fa140909a216a8bb4cf557ac922c! Safely loading existing state.\n",
      "INFO:dagger:State already exists at /private/home/michela/dagger/tutorials/example/22f54778d497611f21fa6f998f270572! Safely loading existing state.\n",
      "INFO:dagger:State already exists at /private/home/michela/dagger/tutorials/example/d296b6e17e99ef92fd6c728507198d69! Safely loading existing state.\n"
     ]
    },
    {
     "name": "stdout",
     "output_type": "stream",
     "text": [
      "False\n",
      "False\n",
      "False\n"
     ]
    },
    {
     "name": "stderr",
     "output_type": "stream",
     "text": [
      "INFO:dagger:State already exists at /private/home/michela/dagger/tutorials/example/048559c33aa862acc226c32a553bab4b! Safely loading existing state.\n"
     ]
    },
    {
     "name": "stdout",
     "output_type": "stream",
     "text": [
      "False\n",
      "False\n"
     ]
    }
   ],
   "source": [
    "for state in exp.graph.nodes.iterator:\n",
    "    print(state.slim_loaded)"
   ]
  },
  {
   "cell_type": "markdown",
   "metadata": {},
   "source": [
    "In fact, a safer way to restore the state, instead of using `restore` and then having to remember to `deflate`, is to `lazy_load` the state (which is what `iterator` above is making use of):"
   ]
  },
  {
   "cell_type": "code",
   "execution_count": 58,
   "metadata": {},
   "outputs": [
    {
     "data": {
      "text/plain": [
       "True"
      ]
     },
     "execution_count": 58,
     "metadata": {},
     "output_type": "execute_result"
    }
   ],
   "source": [
    "s.slim_loaded"
   ]
  },
  {
   "cell_type": "code",
   "execution_count": 59,
   "metadata": {},
   "outputs": [
    {
     "name": "stderr",
     "output_type": "stream",
     "text": [
      "INFO:dagger:State already exists at /private/home/michela/dagger/tutorials/example/62bee8c1ddf044584494779cf50e344a-root! Safely loading existing state.\n"
     ]
    },
    {
     "name": "stdout",
     "output_type": "stream",
     "text": [
      "False\n"
     ]
    }
   ],
   "source": [
    "with s.lazy_load():\n",
    "    print(s.slim_loaded)"
   ]
  },
  {
   "cell_type": "code",
   "execution_count": 60,
   "metadata": {},
   "outputs": [
    {
     "data": {
      "text/plain": [
       "True"
      ]
     },
     "execution_count": 60,
     "metadata": {},
     "output_type": "execute_result"
    }
   ],
   "source": [
    "s.slim_loaded"
   ]
  }
 ],
 "metadata": {
  "kernelspec": {
   "display_name": "Python 3",
   "language": "python",
   "name": "python3"
  },
  "language_info": {
   "codemirror_mode": {
    "name": "ipython",
    "version": 3
   },
   "file_extension": ".py",
   "mimetype": "text/x-python",
   "name": "python",
   "nbconvert_exporter": "python",
   "pygments_lexer": "ipython3",
   "version": "3.6.7"
  }
 },
 "nbformat": 4,
 "nbformat_minor": 2
}
